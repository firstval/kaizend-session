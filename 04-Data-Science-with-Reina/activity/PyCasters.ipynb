{
 "cells": [
  {
   "cell_type": "markdown",
   "metadata": {},
   "source": [
    "# PyCasters\n",
    "## January 17, 2020 | DIY Data Workshop\n",
    "### Mark Anthony Yabis, First Val Babon, Cris Sarmiento\n",
    "\n",
    "\n",
    "# Questions:\n",
    "1. Who has the most number of page edits in Wikipedia for Musicians?\n",
    "2. What is the date range of the Wikipedia Edits for Robin Williams?\n",
    "3. How many celebrities are living in the United States among the most edited pages in Wikipedia?"
   ]
  },
  {
   "cell_type": "code",
   "execution_count": 1,
   "metadata": {},
   "outputs": [],
   "source": [
    "import pandas as pd\n",
    "import numpy as np\n",
    "import matplotlib.pyplot as plt\n",
    "import matplotlib\n",
    "%matplotlib inline"
   ]
  },
  {
   "cell_type": "code",
   "execution_count": 2,
   "metadata": {},
   "outputs": [],
   "source": [
    "fn = \"../input/wikipedia_edits.csv.zip\"\n",
    "df = pd.read_csv(fn)"
   ]
  },
  {
   "cell_type": "markdown",
   "metadata": {},
   "source": [
    "# 1. Who has the most number of page edits in Wikipedia for Musicians?"
   ]
  },
  {
   "cell_type": "code",
   "execution_count": 3,
   "metadata": {},
   "outputs": [
    {
     "data": {
      "text/plain": [
       "Britney_Spears    24640\n",
       "Name: title, dtype: int64"
      ]
     },
     "execution_count": 3,
     "metadata": {},
     "output_type": "execute_result"
    }
   ],
   "source": [
    "df[df[\"career\"]== \"Musicians\"][\"title\"].value_counts().head(1)"
   ]
  },
  {
   "cell_type": "markdown",
   "metadata": {},
   "source": [
    "# 2. What is the date range of the Wikipedia Edits for Robin Williams?"
   ]
  },
  {
   "cell_type": "code",
   "execution_count": 4,
   "metadata": {},
   "outputs": [],
   "source": [
    "df[\"timestamp\"] = pd.to_datetime(df[\"timestamp\"])"
   ]
  },
  {
   "cell_type": "code",
   "execution_count": 5,
   "metadata": {},
   "outputs": [],
   "source": [
    "df[\"date\"] = df[\"timestamp\"].dt.date"
   ]
  },
  {
   "cell_type": "code",
   "execution_count": 6,
   "metadata": {},
   "outputs": [],
   "source": [
    "title = \"Robin_Williams\"\n",
    "df_sub = df[df[\"title\"]==title]"
   ]
  },
  {
   "cell_type": "code",
   "execution_count": 7,
   "metadata": {},
   "outputs": [
    {
     "data": {
      "text/plain": [
       "8431"
      ]
     },
     "execution_count": 7,
     "metadata": {},
     "output_type": "execute_result"
    }
   ],
   "source": [
    "len(df_sub)"
   ]
  },
  {
   "cell_type": "code",
   "execution_count": 8,
   "metadata": {},
   "outputs": [
    {
     "data": {
      "text/html": [
       "<div>\n",
       "<style scoped>\n",
       "    .dataframe tbody tr th:only-of-type {\n",
       "        vertical-align: middle;\n",
       "    }\n",
       "\n",
       "    .dataframe tbody tr th {\n",
       "        vertical-align: top;\n",
       "    }\n",
       "\n",
       "    .dataframe thead th {\n",
       "        text-align: right;\n",
       "    }\n",
       "</style>\n",
       "<table border=\"1\" class=\"dataframe\">\n",
       "  <thead>\n",
       "    <tr style=\"text-align: right;\">\n",
       "      <th></th>\n",
       "      <th>title</th>\n",
       "      <th>parentid</th>\n",
       "      <th>revid</th>\n",
       "      <th>timestamp</th>\n",
       "      <th>user</th>\n",
       "      <th>userid</th>\n",
       "      <th>size</th>\n",
       "      <th>recipient</th>\n",
       "      <th>year</th>\n",
       "      <th>rank</th>\n",
       "      <th>country</th>\n",
       "      <th>career</th>\n",
       "      <th>tied</th>\n",
       "      <th>date</th>\n",
       "    </tr>\n",
       "  </thead>\n",
       "  <tbody>\n",
       "    <tr>\n",
       "      <th>589057</th>\n",
       "      <td>Robin_Williams</td>\n",
       "      <td>858713988</td>\n",
       "      <td>858839480</td>\n",
       "      <td>2018-09-09 23:46:07+00:00</td>\n",
       "      <td>RightCowLeftCoast</td>\n",
       "      <td>8929032.0</td>\n",
       "      <td>112291</td>\n",
       "      <td>Robin Williams</td>\n",
       "      <td>1999</td>\n",
       "      <td>8</td>\n",
       "      <td>United States</td>\n",
       "      <td>Actor</td>\n",
       "      <td>0</td>\n",
       "      <td>2018-09-09</td>\n",
       "    </tr>\n",
       "    <tr>\n",
       "      <th>589058</th>\n",
       "      <td>Robin_Williams</td>\n",
       "      <td>858660967</td>\n",
       "      <td>858713988</td>\n",
       "      <td>2018-09-09 03:49:57+00:00</td>\n",
       "      <td>GoingBatty</td>\n",
       "      <td>11555324.0</td>\n",
       "      <td>111475</td>\n",
       "      <td>Robin Williams</td>\n",
       "      <td>1999</td>\n",
       "      <td>8</td>\n",
       "      <td>United States</td>\n",
       "      <td>Actor</td>\n",
       "      <td>0</td>\n",
       "      <td>2018-09-09</td>\n",
       "    </tr>\n",
       "    <tr>\n",
       "      <th>589059</th>\n",
       "      <td>Robin_Williams</td>\n",
       "      <td>858660956</td>\n",
       "      <td>858660967</td>\n",
       "      <td>2018-09-08 19:45:35+00:00</td>\n",
       "      <td>ClueBot NG</td>\n",
       "      <td>13286072.0</td>\n",
       "      <td>111446</td>\n",
       "      <td>Robin Williams</td>\n",
       "      <td>1999</td>\n",
       "      <td>8</td>\n",
       "      <td>United States</td>\n",
       "      <td>Actor</td>\n",
       "      <td>0</td>\n",
       "      <td>2018-09-08</td>\n",
       "    </tr>\n",
       "    <tr>\n",
       "      <th>589060</th>\n",
       "      <td>Robin_Williams</td>\n",
       "      <td>858269797</td>\n",
       "      <td>858660956</td>\n",
       "      <td>2018-09-08 19:45:27+00:00</td>\n",
       "      <td>90.194.255.137</td>\n",
       "      <td>0.0</td>\n",
       "      <td>111466</td>\n",
       "      <td>Robin Williams</td>\n",
       "      <td>1999</td>\n",
       "      <td>8</td>\n",
       "      <td>United States</td>\n",
       "      <td>Actor</td>\n",
       "      <td>0</td>\n",
       "      <td>2018-09-08</td>\n",
       "    </tr>\n",
       "    <tr>\n",
       "      <th>589061</th>\n",
       "      <td>Robin_Williams</td>\n",
       "      <td>858268903</td>\n",
       "      <td>858269797</td>\n",
       "      <td>2018-09-06 01:08:44+00:00</td>\n",
       "      <td>Sjones23</td>\n",
       "      <td>3116621.0</td>\n",
       "      <td>111446</td>\n",
       "      <td>Robin Williams</td>\n",
       "      <td>1999</td>\n",
       "      <td>8</td>\n",
       "      <td>United States</td>\n",
       "      <td>Actor</td>\n",
       "      <td>0</td>\n",
       "      <td>2018-09-06</td>\n",
       "    </tr>\n",
       "  </tbody>\n",
       "</table>\n",
       "</div>"
      ],
      "text/plain": [
       "                 title   parentid      revid                 timestamp  \\\n",
       "589057  Robin_Williams  858713988  858839480 2018-09-09 23:46:07+00:00   \n",
       "589058  Robin_Williams  858660967  858713988 2018-09-09 03:49:57+00:00   \n",
       "589059  Robin_Williams  858660956  858660967 2018-09-08 19:45:35+00:00   \n",
       "589060  Robin_Williams  858269797  858660956 2018-09-08 19:45:27+00:00   \n",
       "589061  Robin_Williams  858268903  858269797 2018-09-06 01:08:44+00:00   \n",
       "\n",
       "                     user      userid    size       recipient  year  rank  \\\n",
       "589057  RightCowLeftCoast   8929032.0  112291  Robin Williams  1999     8   \n",
       "589058         GoingBatty  11555324.0  111475  Robin Williams  1999     8   \n",
       "589059         ClueBot NG  13286072.0  111446  Robin Williams  1999     8   \n",
       "589060     90.194.255.137         0.0  111466  Robin Williams  1999     8   \n",
       "589061           Sjones23   3116621.0  111446  Robin Williams  1999     8   \n",
       "\n",
       "              country career  tied        date  \n",
       "589057  United States  Actor     0  2018-09-09  \n",
       "589058  United States  Actor     0  2018-09-09  \n",
       "589059  United States  Actor     0  2018-09-08  \n",
       "589060  United States  Actor     0  2018-09-08  \n",
       "589061  United States  Actor     0  2018-09-06  "
      ]
     },
     "execution_count": 8,
     "metadata": {},
     "output_type": "execute_result"
    }
   ],
   "source": [
    "df_sub.head()"
   ]
  },
  {
   "cell_type": "code",
   "execution_count": 9,
   "metadata": {},
   "outputs": [],
   "source": [
    "date_min = df_sub[\"date\"].min()\n",
    "date_max = df_sub[\"date\"].max()"
   ]
  },
  {
   "cell_type": "code",
   "execution_count": 10,
   "metadata": {},
   "outputs": [
    {
     "data": {
      "text/plain": [
       "(datetime.date(2002, 5, 24), datetime.date(2018, 9, 9))"
      ]
     },
     "execution_count": 10,
     "metadata": {},
     "output_type": "execute_result"
    }
   ],
   "source": [
    "date_min, date_max"
   ]
  },
  {
   "cell_type": "code",
   "execution_count": 11,
   "metadata": {},
   "outputs": [
    {
     "data": {
      "text/plain": [
       "'Date range: 05/24/2002 to 09/09/2018'"
      ]
     },
     "execution_count": 11,
     "metadata": {},
     "output_type": "execute_result"
    }
   ],
   "source": [
    "'Date range: {:%m/%d/%Y} to {:%m/%d/%Y}'.format(date_min, date_max)"
   ]
  },
  {
   "cell_type": "markdown",
   "metadata": {},
   "source": [
    "# 3. How many celebrities are living in the United States among the most edited pages in Wikipedia?"
   ]
  },
  {
   "cell_type": "code",
   "execution_count": 12,
   "metadata": {},
   "outputs": [
    {
     "data": {
      "text/plain": [
       "Britney_Spears           24640\n",
       "Beyonce                  20811\n",
       "Eminem                   19899\n",
       "Mariah_Carey             18571\n",
       "Madonna_(entertainer)    17681\n",
       "Dwayne_Johnson           16097\n",
       "LeBron_James             14642\n",
       "Lady_Gaga                14208\n",
       "Jennifer_Lopez           13146\n",
       "50_Cent                  13066\n",
       "Cher                     12743\n",
       "Kobe_Bryant              12553\n",
       "Michael_Jordan           12040\n",
       "Taylor_Swift             11004\n",
       "Backstreet_Boys          10270\n",
       "Sean_Combs               10231\n",
       "Johnny_Depp              10001\n",
       "Katy_Perry                9913\n",
       "Brad_Pitt                 9281\n",
       "Ben_Affleck               9263\n",
       "Shaquille_O'Neal          9229\n",
       "Tiger_Woods               9026\n",
       "Steven_Spielberg          8998\n",
       "Jennifer_Aniston          8824\n",
       "Rush_Limbaugh             8685\n",
       "Mel_Gibson                8668\n",
       "Jay-Z                     8612\n",
       "Bruce_Springsteen         8601\n",
       "Howard_Stern              8571\n",
       "Robin_Williams            8431\n",
       "Bon_Jovi                  8163\n",
       "Floyd_Mayweather_Jr.      7969\n",
       "Oprah_Winfrey             7931\n",
       "Tom_Hanks                 7846\n",
       "George_Clooney            7775\n",
       "Tom_Cruise                7769\n",
       "Leonardo_DiCaprio         7654\n",
       "Angelina_Jolie            7336\n",
       "Dr._Dre                   7256\n",
       "Bruce_Willis              7114\n",
       "NSYNC                     6130\n",
       "Kim_Kardashian            5945\n",
       "Jerry_Seinfeld            5754\n",
       "Sandra_Bullock            5340\n",
       "Robert_Downey_Jr.         5317\n",
       "George_Lucas              5192\n",
       "Harrison_Ford             5052\n",
       "Julia_Roberts             4921\n",
       "Ellen_DeGeneres           4434\n",
       "Garth_Brooks              4160\n",
       "Kevin_Hart                3678\n",
       "Dan_Brown                 3382\n",
       "Kylie_Jenner              3056\n",
       "Judy_Sheindlin            2762\n",
       "Phil_McGraw               2638\n",
       "Paula_Deen                2563\n",
       "James_Patterson           2543\n",
       "Name: title, dtype: int64"
      ]
     },
     "execution_count": 12,
     "metadata": {},
     "output_type": "execute_result"
    }
   ],
   "source": [
    "df[df[\"country\"]==\"United States\"][\"title\"].value_counts()"
   ]
  }
 ],
 "metadata": {
  "kernelspec": {
   "display_name": "Python 3",
   "language": "python",
   "name": "python3"
  },
  "language_info": {
   "codemirror_mode": {
    "name": "ipython",
    "version": 3
   },
   "file_extension": ".py",
   "mimetype": "text/x-python",
   "name": "python",
   "nbconvert_exporter": "python",
   "pygments_lexer": "ipython3",
   "version": "3.7.3"
  }
 },
 "nbformat": 4,
 "nbformat_minor": 2
}
